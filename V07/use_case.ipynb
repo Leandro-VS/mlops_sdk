{
 "cells": [
  {
   "cell_type": "markdown",
   "metadata": {},
   "source": [
    "# Lotus SDK"
   ]
  },
  {
   "cell_type": "markdown",
   "metadata": {},
   "source": [
    "O Lotus SDK é uma solução abrangente e unificada que simplifica o desenvolvimento, o treinamento e a governança de modelos de machine learning. Ele faz parte da plataforma de MLOPs Lotus que entrega soluções para todas as etapas do ciclo de vida de modelos de machine learning. <br> <br>\n",
    "Ele integra e abstrai diversas funcionalidades de SDKs especializados, como o Cidarta para otimização e treinamento de modelos, o Andromeda para gerenciamento de projetos e experimentos, e o Smith para consumo de features e execução de queries em bases de dados. O SDK Lotus oferece uma interface centralizada e intuitiva, permitindo que os usuários foquem em suas tarefas principais sem se preocupar com a complexidade dos processos subjacentes."
   ]
  },
  {
   "cell_type": "markdown",
   "metadata": {},
   "source": [
    "Principais Funcionalidades:\n",
    "\n",
    "Gerenciamento de Projetos e Experimentos\n",
    "\n",
    "O SDK Lotus integra-se ao Andromeda, um model registry que gerencia os projetos e experimentos de machine learning.\n",
    "Os usuários podem criar projetos diretamente no SDK Lotus, que gerencia automaticamente a criação de experimentos antes de cada treinamento, garantindo rastreabilidade e governança completas.\n",
    "\n",
    "Treinamento de Modelos\n",
    "\n",
    "O SDK oferece uma interface simples para treinar modelos de machine learning usando o Cidarta.\n",
    "Suporta treinamento local e na AWS, utilizando o Amazon SageMaker. A escolha entre treinamento local ou na nuvem é totalmente transparente para o usuário.\n",
    "Antes de cada treinamento, um experimento é automaticamente criado no Andromeda, associando os resultados ao projeto correspondente.\n",
    "\n",
    "Consumo de Features e Execução de Queries\n",
    "\n",
    "O SDK Lotus inclui uma poderosa integração com o Smith SDK, permitindo que os usuários consumam features de um catálogo e executem queries diretamente no AWS Athena.\n",
    "Basta indicar as features desejadas, e o SDK coleta os metadados, monta a query e a executa, retornando os resultados em um pandas DataFrame pronto para análise.\n",
    "\n",
    "Integração com AWS\n",
    "\n",
    "O SDK Lotus oferece métodos para login e gerenciamento de credenciais AWS, simplificando o acesso aos recursos na nuvem.\n",
    "A execução de queries e o treinamento de modelos na AWS são completamente transparentes, permitindo que os usuários foquem nos resultados, sem se preocupar com a configuração da infraestrutura.\n"
   ]
  },
  {
   "cell_type": "code",
   "execution_count": null,
   "metadata": {},
   "outputs": [],
   "source": []
  },
  {
   "cell_type": "code",
   "execution_count": 1,
   "metadata": {},
   "outputs": [],
   "source": [
    "from lotus_sdk.lotus import Lotus\n",
    "\n",
    "import pandas as pd\n",
    "from sklearn.model_selection import train_test_split"
   ]
  },
  {
   "cell_type": "code",
   "execution_count": 2,
   "metadata": {},
   "outputs": [],
   "source": [
    "# Inicializar o SDK Lotus\n",
    "lotus = Lotus()\n"
   ]
  },
  {
   "cell_type": "code",
   "execution_count": 3,
   "metadata": {},
   "outputs": [
    {
     "data": {
      "text/plain": [
       "{'account_credentials': 'account_based_credentials'}"
      ]
     },
     "execution_count": 3,
     "metadata": {},
     "output_type": "execute_result"
    }
   ],
   "source": [
    "# Resgata credenciais\n",
    "aws_credentials = lotus.aws_login()\n",
    "aws_credentials\n"
   ]
  },
  {
   "cell_type": "code",
   "execution_count": 4,
   "metadata": {},
   "outputs": [
    {
     "name": "stdout",
     "output_type": "stream",
     "text": [
      "Executando query no Athena: SELECT feature1, feature2 FROM table1\n",
      "Resultado da query em DataFrame:\n"
     ]
    },
    {
     "data": {
      "text/html": [
       "<div>\n",
       "<style scoped>\n",
       "    .dataframe tbody tr th:only-of-type {\n",
       "        vertical-align: middle;\n",
       "    }\n",
       "\n",
       "    .dataframe tbody tr th {\n",
       "        vertical-align: top;\n",
       "    }\n",
       "\n",
       "    .dataframe thead th {\n",
       "        text-align: right;\n",
       "    }\n",
       "</style>\n",
       "<table border=\"1\" class=\"dataframe\">\n",
       "  <thead>\n",
       "    <tr style=\"text-align: right;\">\n",
       "      <th></th>\n",
       "      <th>feature1</th>\n",
       "      <th>feature2</th>\n",
       "      <th>target</th>\n",
       "    </tr>\n",
       "  </thead>\n",
       "  <tbody>\n",
       "    <tr>\n",
       "      <th>0</th>\n",
       "      <td>value1a</td>\n",
       "      <td>value2a</td>\n",
       "      <td>targeta</td>\n",
       "    </tr>\n",
       "    <tr>\n",
       "      <th>1</th>\n",
       "      <td>value1b</td>\n",
       "      <td>value2b</td>\n",
       "      <td>targetb</td>\n",
       "    </tr>\n",
       "    <tr>\n",
       "      <th>2</th>\n",
       "      <td>value1c</td>\n",
       "      <td>value2c</td>\n",
       "      <td>targetc</td>\n",
       "    </tr>\n",
       "  </tbody>\n",
       "</table>\n",
       "</div>"
      ],
      "text/plain": [
       "  feature1 feature2   target\n",
       "0  value1a  value2a  targeta\n",
       "1  value1b  value2b  targetb\n",
       "2  value1c  value2c  targetc"
      ]
     },
     "execution_count": 4,
     "metadata": {},
     "output_type": "execute_result"
    }
   ],
   "source": [
    "# Recuperar features e executar uma query transparente no Athena\n",
    "df = lotus.get_features([\"feature1\", \"feature2\"])\n",
    "print(\"Resultado da query em DataFrame:\")\n",
    "df\n"
   ]
  },
  {
   "cell_type": "code",
   "execution_count": 5,
   "metadata": {},
   "outputs": [],
   "source": [
    "X = df.drop(columns=['target'])\n",
    "y = df['target']\n",
    "\n",
    "X_train, X_test, y_train, y_test = train_test_split(X, y, test_size=0.2, random_state=42)\n",
    "\n",
    "df_train = pd.concat([X_train, y_train], axis=1)\n",
    "df_test = pd.concat([X_test, y_test], axis=1)"
   ]
  },
  {
   "cell_type": "code",
   "execution_count": 6,
   "metadata": {},
   "outputs": [
    {
     "name": "stdout",
     "output_type": "stream",
     "text": [
      "Projeto Criado no Andromeda\n",
      "Projeto criado com ID: 0123456\n"
     ]
    }
   ],
   "source": [
    "# Criar um novo projeto no Andromeda\n",
    "project_id = lotus.create_project(\n",
    "    name=\"Project Alpha\",\n",
    "    description=\"Projeto para classificação de imagens\",\n",
    "    members=[\"user1\", \"user2\"]\n",
    ")\n",
    "print(f\"Projeto criado com ID: {project_id}\")\n"
   ]
  },
  {
   "cell_type": "code",
   "execution_count": 7,
   "metadata": {},
   "outputs": [
    {
     "data": {
      "text/plain": [
       "{'simple_clf': 'Default Classifier with common preprocessing steps',\n",
       " 'xgboost_clf': 'XGBoost Classifier with common preprocessing steps',\n",
       " 'xgboost_reg': 'XGBoost Regressor with common preprocessing steps'}"
      ]
     },
     "execution_count": 7,
     "metadata": {},
     "output_type": "execute_result"
    }
   ],
   "source": [
    "blueprints = lotus.list_blueprints_pipelines()\n",
    "blueprints"
   ]
  },
  {
   "cell_type": "code",
   "execution_count": 8,
   "metadata": {},
   "outputs": [
    {
     "name": "stdout",
     "output_type": "stream",
     "text": [
      "Experimento com id 789456, criado no projeto 0123456\n",
      "Experimento criado automaticamente com ID: 789456\n",
      "Resultado do treinamento: {'status': 'success', 'model': \"<class 'sklearn.pipeline.Pipeline'>\", 'experiment_id': '789456'}\n"
     ]
    }
   ],
   "source": [
    "# Executar o treinamento de um modelo com o Cidarta\n",
    "training_model = lotus.train_model(\n",
    "    project_id=project_id,\n",
    "    data_train=df_train.drop(columns=['target']),\n",
    "    target=df_train['target'],\n",
    "    blueprint=\"xgboost_clf\",\n",
    "    run_on_training_job=False\n",
    ")\n",
    "print(f\"Resultado do treinamento: {training_model}\")\n"
   ]
  },
  {
   "cell_type": "code",
   "execution_count": 9,
   "metadata": {},
   "outputs": [
    {
     "data": {
      "text/plain": [
       "\"<class 'sklearn.pipeline.Pipeline'>\""
      ]
     },
     "execution_count": 9,
     "metadata": {},
     "output_type": "execute_result"
    }
   ],
   "source": [
    "model_artifact = training_model['model']\n",
    "model_artifact"
   ]
  },
  {
   "cell_type": "code",
   "execution_count": 10,
   "metadata": {},
   "outputs": [
    {
     "data": {
      "text/plain": [
       "'Lotus Explain Model'"
      ]
     },
     "execution_count": 10,
     "metadata": {},
     "output_type": "execute_result"
    }
   ],
   "source": [
    "explainer_model = lotus.explainer_model(model_artifact)\n",
    "explainer_model"
   ]
  },
  {
   "cell_type": "code",
   "execution_count": null,
   "metadata": {},
   "outputs": [],
   "source": []
  },
  {
   "cell_type": "code",
   "execution_count": null,
   "metadata": {},
   "outputs": [],
   "source": []
  }
 ],
 "metadata": {
  "kernelspec": {
   "display_name": "Python 3",
   "language": "python",
   "name": "python3"
  },
  "language_info": {
   "codemirror_mode": {
    "name": "ipython",
    "version": 3
   },
   "file_extension": ".py",
   "mimetype": "text/x-python",
   "name": "python",
   "nbconvert_exporter": "python",
   "pygments_lexer": "ipython3",
   "version": "3.11.9"
  }
 },
 "nbformat": 4,
 "nbformat_minor": 2
}
