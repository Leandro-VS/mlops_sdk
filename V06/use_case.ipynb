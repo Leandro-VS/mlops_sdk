{
 "cells": [
  {
   "cell_type": "code",
   "execution_count": 1,
   "metadata": {},
   "outputs": [],
   "source": [
    "from lotus_sdk.lotus import Lotus\n",
    "\n",
    "# Inicialização do SDK Lotus\n",
    "lotus = Lotus()"
   ]
  },
  {
   "cell_type": "code",
   "execution_count": 2,
   "metadata": {},
   "outputs": [
    {
     "name": "stdout",
     "output_type": "stream",
     "text": [
      "Andromeda create project: 123\n"
     ]
    }
   ],
   "source": [
    "# Criar um novo projeto no Andromeda\n",
    "project_id = lotus.create_project(\n",
    "    name=\"Project Alpha\",\n",
    "    description=\"Projeto para classificação de imagens\",\n",
    "    members=[\"user1\", \"user2\"]\n",
    ")"
   ]
  },
  {
   "cell_type": "code",
   "execution_count": 3,
   "metadata": {},
   "outputs": [
    {
     "name": "stdout",
     "output_type": "stream",
     "text": [
      "Flavors disponíveis: ['cidarta', 'other_flavor']\n"
     ]
    }
   ],
   "source": [
    "# Listar flavors disponíveis\n",
    "flavors = lotus.list_flavors()\n",
    "print(\"Flavors disponíveis:\", flavors)\n"
   ]
  },
  {
   "cell_type": "code",
   "execution_count": 4,
   "metadata": {},
   "outputs": [],
   "source": [
    "# Escolher e treinar com o flavor 'cidarta'\n",
    "cidarta = lotus.train_with_flavor('cidarta')"
   ]
  },
  {
   "cell_type": "code",
   "execution_count": 5,
   "metadata": {},
   "outputs": [
    {
     "name": "stdout",
     "output_type": "stream",
     "text": [
      "Run Cidarta EDA on s3://bucket/dataset.csv\n"
     ]
    }
   ],
   "source": [
    "# Executar análise exploratória de dados (EDA)\n",
    "eda_result = cidarta.run_eda(data=\"s3://bucket/dataset.csv\")"
   ]
  },
  {
   "cell_type": "code",
   "execution_count": 6,
   "metadata": {},
   "outputs": [
    {
     "name": "stdout",
     "output_type": "stream",
     "text": [
      "Cidarta Blueprints List\n"
     ]
    }
   ],
   "source": [
    "# Listar blueprints disponíveis\n",
    "blueprints = cidarta.list_blueprints()"
   ]
  },
  {
   "cell_type": "code",
   "execution_count": 7,
   "metadata": {},
   "outputs": [
    {
     "name": "stdout",
     "output_type": "stream",
     "text": [
      "Andromeda Create Experiment 456\n",
      "Experimento criado automaticamente com ID: 456\n",
      "Executando o treinamento com o blueprint default_blueprint localmente.\n",
      "Enviando artefatos do experimento 456\n",
      "{'status': 'success', 'model': 'local_model', 'experiment_id': '456'}\n"
     ]
    }
   ],
   "source": [
    "# Executar a otimização de modelo localmente\n",
    "optimizer_result = cidarta.optimize(\n",
    "    project_id=project_id,\n",
    "    data=\"s3://bucket/dataset.csv\", \n",
    "    blueprint=\"default_blueprint\",\n",
    "    run_locally=True\n",
    ")\n",
    "print(optimizer_result)"
   ]
  },
  {
   "cell_type": "code",
   "execution_count": 8,
   "metadata": {},
   "outputs": [
    {
     "name": "stdout",
     "output_type": "stream",
     "text": [
      "Andromeda Create Experiment 456\n",
      "Experimento criado automaticamente com ID: 456\n",
      "Executando o treinamento com o blueprint default_blueprint no SageMaker.\n",
      "Executando treinamento com contêiner customizado your-account-id.dkr.ecr.your-region.amazonaws.com/cidarta:latest\n",
      "Enviando artefatos do experimento 456\n",
      "{'status': 'success', 'job_name': 'byoc-training-job', 'experiment_id': '456'}\n"
     ]
    }
   ],
   "source": [
    "# Executar a otimização de modelo no SageMaker usando Cidarta como builtin (BYOC internamente)\n",
    "optimizer_result_sagemaker = cidarta.optimize(\n",
    "    project_id=project_id,\n",
    "    data=\"s3://bucket/dataset.csv\", \n",
    "    blueprint=\"default_blueprint\", \n",
    "    run_locally=False\n",
    ")\n",
    "print(optimizer_result_sagemaker)"
   ]
  },
  {
   "cell_type": "code",
   "execution_count": 9,
   "metadata": {},
   "outputs": [
    {
     "name": "stdout",
     "output_type": "stream",
     "text": [
      "Cidarta Explain Model\n"
     ]
    }
   ],
   "source": [
    "# Explicar o modelo treinado\n",
    "explain_result = cidarta.explain(model=\"local_model\")"
   ]
  },
  {
   "cell_type": "code",
   "execution_count": null,
   "metadata": {},
   "outputs": [],
   "source": []
  }
 ],
 "metadata": {
  "kernelspec": {
   "display_name": "Python 3",
   "language": "python",
   "name": "python3"
  },
  "language_info": {
   "codemirror_mode": {
    "name": "ipython",
    "version": 3
   },
   "file_extension": ".py",
   "mimetype": "text/x-python",
   "name": "python",
   "nbconvert_exporter": "python",
   "pygments_lexer": "ipython3",
   "version": "3.11.9"
  }
 },
 "nbformat": 4,
 "nbformat_minor": 2
}
